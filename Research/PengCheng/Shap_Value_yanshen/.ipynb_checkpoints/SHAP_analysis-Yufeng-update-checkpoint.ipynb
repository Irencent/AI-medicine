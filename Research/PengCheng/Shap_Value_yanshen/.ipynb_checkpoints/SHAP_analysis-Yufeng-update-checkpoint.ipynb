{
 "cells": [
  {
   "cell_type": "markdown",
   "metadata": {},
   "source": [
    "Referred to: https://shap-lrjball.readthedocs.io/en/latest/generated/shap.DeepExplainer.html#shap.DeepExplainer"
   ]
  },
  {
   "cell_type": "code",
   "execution_count": 1,
   "metadata": {},
   "outputs": [],
   "source": [
    "import os\n",
    "import torch\n",
    "import torch.nn as nn\n",
    "import shap\n",
    "import numpy as np\n",
    "import matplotlib.pyplot as plt\n",
    "from collections import OrderedDict\n",
    "from tqdm import tqdm\n",
    "import pickle as pkl\n",
    "import seaborn as sns\n",
    "disease_map = {0: 'HCM', 1: 'DCM', 2: 'CAD', 3: 'ARVC', 4: 'PAH', 5: 'myocarditis', 6: 'RCM', 7: 'CHD', 8: 'HHD', 9: 'Cardiac', 10: 'LVNC'}\n",
    "def sort_dict(dict):\n",
    "    new_dict={}\n",
    "    keys=sorted(dict.keys())\n",
    "    for key in keys:\n",
    "        new_dict[key]=dict[key]\n",
    "    return new_dict\n",
    "def norm_score(score):\n",
    "    return score/np.sum(score)\n",
    "def bar_plot(scores,labels=['Short axis cinema','Four chamber cinema','Short axis LGE'],tag='',norm=False,sort=True,save=''):\n",
    "    if norm:\n",
    "        scores=norm_score(scores)\n",
    "        title=tag+' Normalized SHAP values(Impact on model output)'\n",
    "    else:\n",
    "        title=tag+' SHAP values(Impact on model output)'\n",
    "    if sort:\n",
    "        indexes=np.argsort(scores)\n",
    "        new_score=[scores[i] for i in indexes]\n",
    "        new_label=[labels[i] for i in indexes]\n",
    "    else:\n",
    "        new_label=labels\n",
    "        new_score=scores\n",
    "    plt.figure(figsize=(8,3))\n",
    "    colors=[]\n",
    "    for score in new_score:\n",
    "        if score>=0:\n",
    "            colors.append('red')\n",
    "        else:\n",
    "            colors.append('blue')\n",
    "    plt.barh(new_label,width=new_score,color=colors)\n",
    "    plt.title(title)\n",
    "    if save!='':\n",
    "        folder=save.replace(save.split('/')[-1],'')\n",
    "        if not os.path.exists(folder):\n",
    "            os.makedirs(folder)\n",
    "        plt.savefig(save,bbox_inches='tight')"
   ]
  },
  {
   "cell_type": "code",
   "execution_count": 2,
   "metadata": {},
   "outputs": [
    {
     "data": {
      "text/plain": [
       "Sequential(\n",
       "  (0): Linear(in_features=3072, out_features=11, bias=True)\n",
       "  (1): Softmax(dim=-1)\n",
       ")"
      ]
     },
     "execution_count": 2,
     "metadata": {},
     "output_type": "execute_result"
    }
   ],
   "source": [
    "checkpoint='D:/Sys_Downloads/fusion.pth'\n",
    "checkpoint=torch.load(checkpoint,map_location='cpu')['state_dict']\n",
    "linear_weight=OrderedDict()\n",
    "for key in checkpoint.keys():\n",
    "    if 'backbone' not in key:\n",
    "        linear_weight[key.replace('cls_head.fc_cls','0')]=checkpoint[key]\n",
    "model = nn.Sequential(\n",
    "    nn.Linear(1024*3, 11),\n",
    "    nn.Softmax(dim=-1)\n",
    ")\n",
    "model.load_state_dict(linear_weight)\n",
    "model.eval()"
   ]
  },
  {
   "cell_type": "code",
   "execution_count": 3,
   "metadata": {},
   "outputs": [
    {
     "data": {
      "text/plain": [
       "torch.Size([2226, 3072])"
      ]
     },
     "execution_count": 3,
     "metadata": {},
     "output_type": "execute_result"
    }
   ],
   "source": [
    "# root='d:/Sys_Downloads/shap/'\n",
    "# samples=[]\n",
    "# for file in os.listdir(root):\n",
    "#     sam=np.load(os.path.join(root,file))\n",
    "#     samples.append(sam)\n",
    "# samples=np.concatenate(samples,axis=0)\n",
    "# np.save('SHAP.npy',samples)\n",
    "samples=np.load('SHAP.npy')\n",
    "samples=torch.from_numpy(samples).type(torch.FloatTensor)\n",
    "samples.shape"
   ]
  },
  {
   "cell_type": "code",
   "execution_count": 4,
   "metadata": {},
   "outputs": [
    {
     "name": "stdout",
     "output_type": "stream",
     "text": [
      "0 752\n",
      "1 464\n",
      "2 323\n",
      "3 130\n",
      "4 47\n",
      "5 31\n",
      "6 125\n",
      "7 18\n",
      "8 131\n",
      "9 79\n",
      "10 126\n"
     ]
    }
   ],
   "source": [
    "with open('./sax_4ch_lge_0.994_11cls_fusion_test.txt','r')as f:\n",
    "    ann=f.readlines()\n",
    "ann_map={}\n",
    "for i in range(len(ann)):\n",
    "    cla=int(ann[i].split(' ')[-1].split('\\n')[0])\n",
    "    if cla not in ann_map.keys():\n",
    "        ann_map[cla]=[i]\n",
    "    else:\n",
    "        ann_map[cla].append(i)\n",
    "ann_map=sort_dict(ann_map)\n",
    "for key in ann_map.keys():\n",
    "    print(key,len(ann_map[key]))"
   ]
  },
  {
   "cell_type": "code",
   "execution_count": 5,
   "metadata": {},
   "outputs": [
    {
     "name": "stderr",
     "output_type": "stream",
     "text": [
      "Using a non-full backward hook when the forward contains multiple autograd Nodes is deprecated and will be removed in future versions. This hook will be missing some grad_input. Please use register_full_backward_hook to get the documented behavior.\n"
     ]
    },
    {
     "data": {
      "text/plain": [
       "((1, 3072), 11)"
      ]
     },
     "execution_count": 5,
     "metadata": {},
     "output_type": "execute_result"
    }
   ],
   "source": [
    "device=torch.device('cuda:0')\n",
    "model.to(device)\n",
    "samples=samples.to(device)\n",
    "explainer = shap.DeepExplainer(model, samples)\n",
    "shap_values = explainer.shap_values(samples[-2:-1])\n",
    "shap_values[0].shape,len(shap_values) # 11 classes"
   ]
  },
  {
   "cell_type": "code",
   "execution_count": 6,
   "metadata": {},
   "outputs": [
    {
     "name": "stdout",
     "output_type": "stream",
     "text": [
      "11 (18, 11, 1, 3072)\n"
     ]
    }
   ],
   "source": [
    "# eva_num=18\n",
    "# scores={}\n",
    "# for key in ann_map.keys():\n",
    "#     indexes=ann_map[key][:min(eva_num,len(ann_map[key]))]\n",
    "#     sample_scores=[]\n",
    "#     bar=tqdm(range(len(indexes)),mininterval=1)\n",
    "#     bar.set_description(f'{key} {disease_map[key]}')\n",
    "#     for i in bar:\n",
    "#         sample_scores.append(explainer.shap_values(samples[indexes[i]:indexes[i]+1]))\n",
    "#     scores[key]=np.array(sample_scores)\n",
    "# with open('sample_shap_scores.pkl','wb')as f:\n",
    "#     pkl.dump(scores,f)\n",
    "with open('sample_shap_scores.pkl','rb')as f:\n",
    "    scores=pkl.load(f)\n",
    "print(len(scores),scores[0].shape)"
   ]
  },
  {
   "cell_type": "code",
   "execution_count": 20,
   "metadata": {},
   "outputs": [
    {
     "name": "stdout",
     "output_type": "stream",
     "text": [
      "(11, 3) (11, 3)\n",
      "(198, 11, 3072)\n",
      "(11, 3) (11, 3)\n"
     ]
    }
   ],
   "source": [
    "'''Every class's SHAP score'''\n",
    "shap_score=[]\n",
    "shap_std=[]\n",
    "for key in scores.keys():\n",
    "    sample_score=scores[key].squeeze()\n",
    "    sample_score=sample_score[:,key,:]\n",
    "    feature_sax=np.mean(sample_score[:,:1024],axis=1)\n",
    "    feature_4ch=np.mean(sample_score[:,1024:2048],axis=1)\n",
    "    feature_lge=np.mean(sample_score[:,2048:],axis=1)\n",
    "    feature=np.mean([feature_sax,feature_4ch,feature_lge],axis=1)\n",
    "    std=np.std([feature_sax,feature_4ch,feature_lge],axis=1)\n",
    "    shap_std.append(std)\n",
    "    shap_score.append(feature)\n",
    "shap_score=np.array(shap_score)\n",
    "shap_std=np.array(shap_std)\n",
    "print(shap_score.shape,shap_std.shape)\n",
    "# for i in range(len(shap_score)):\n",
    "#     bar_plot(shap_score[i],tag=disease_map[i],save=f'./SHAP/CLS/{disease_map[i]}.jpg')\n",
    "#     bar_plot(shap_std[i],tag=disease_map[i],save=f'./SHAP/CLS_STD/{disease_map[i]}.jpg')\n",
    "# '''Overall SHAP scores'''\n",
    "all_score=[]\n",
    "for key in scores.keys():\n",
    "    all_score.append(scores[key])\n",
    "all_score=np.concatenate(all_score,axis=0).squeeze()\n",
    "print(all_score.shape)\n",
    "all_score_mean=[]\n",
    "all_score_std=[]\n",
    "for key in disease_map.keys():\n",
    "    feature_sax=np.mean(all_score[:,key,:1024],axis=1)\n",
    "    feature_4ch=np.mean(all_score[:,key,1024:2048],axis=1)\n",
    "    feature_lge=np.mean(all_score[:,key,2048:],axis=1)\n",
    "    feature=[feature_sax,feature_4ch,feature_lge]\n",
    "    all_score_mean.append(np.mean(feature,axis=1))\n",
    "    all_score_std.append(np.std(feature,axis=1))\n",
    "all_score_mean=np.array(all_score_mean)\n",
    "all_score_std=np.array(all_score_std)\n",
    "print(all_score_mean.shape,all_score_std.shape)\n",
    "for i in range(len(all_score_mean)):\n",
    "    bar_plot(all_score_mean[i],tag=disease_map[i],save=f'./SHAP/Overall/{disease_map[i]}.jpg')\n",
    "    bar_plot(all_score_std[i],tag=disease_map[i],save=f'./SHAP/Overall_STD/{disease_map[i]}.jpg')"
   ]
  },
  {
   "cell_type": "code",
   "execution_count": 62,
   "metadata": {},
   "outputs": [
    {
     "name": "stdout",
     "output_type": "stream",
     "text": [
      "(3,) [0.00012519 0.00027941 0.00023776]\n"
     ]
    },
    {
     "data": {
      "image/png": "[encoded data removed]",
      "text/plain": [
       "<Figure size 432x288 with 1 Axes>"
      ]
     },
     "metadata": {
      "needs_background": "light"
     },
     "output_type": "display_data"
    }
   ],
   "source": [
    "# plot shap values for class_id = 0\n",
    "class_id = 0\n",
    "shap_values=scores[class_id][0]\n",
    "# note that we need to take the mean over all 1024 features\n",
    "feat1_shap = np.mean(shap_values[class_id][:,:1024])\n",
    "feat2_shap = np.mean(shap_values[class_id][:,1024:2048])\n",
    "feat3_shap = np.mean(shap_values[class_id][:,2048:])\n",
    "feat_shap = np.stack([feat1_shap, feat2_shap, feat3_shap])\n",
    "print(feat_shap.shape,feat_shap)\n",
    "shap.bar_plot(feat_shap)"
   ]
  }
 ],
 "metadata": {
  "kernelspec": {
   "display_name": "Python 3 (ipykernel)",
   "language": "python",
   "name": "python3"
  },
  "language_info": {
   "codemirror_mode": {
    "name": "ipython",
    "version": 3
   },
   "file_extension": ".py",
   "mimetype": "text/x-python",
   "name": "python",
   "nbconvert_exporter": "python",
   "pygments_lexer": "ipython3",
   "version": "3.9.12"
  }
 },
 "nbformat": 4,
 "nbformat_minor": 2
}
