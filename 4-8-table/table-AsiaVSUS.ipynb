{
 "cells": [
  {
   "cell_type": "code",
   "execution_count": 10,
   "metadata": {},
   "outputs": [],
   "source": [
    "import pandas as pd\n",
    "from tabulate import tabulate\n",
    "from scipy.stats import fisher_exact\n",
    "from scipy.stats import chi2_contingency"
   ]
  },
  {
   "cell_type": "code",
   "execution_count": 11,
   "metadata": {},
   "outputs": [],
   "source": [
    "data =  pd.read_excel('/Users/huyanshen/Desktop/4-8-table/AsiaVsUs-shh.xlsx', header=0)"
   ]
  },
  {
   "cell_type": "code",
   "execution_count": 3,
   "metadata": {},
   "outputs": [
    {
     "data": {
      "text/plain": [
       "['ID',\n",
       " 'MRI-complete label (T1E&T2)',\n",
       " 'Exclusion-list',\n",
       " 'CohortID',\n",
       " 'Geographical Location',\n",
       " 'Race',\n",
       " 'Date of Surgery',\n",
       " 'Age',\n",
       " 'Sex',\n",
       " 'Hospital',\n",
       " 'Molecular Subtypes',\n",
       " 'Genetic Mutations',\n",
       " 'Histological Subtypes',\n",
       " 'Hydrocephalus before Surgery',\n",
       " 'Tumor Texture',\n",
       " 'Fourth-ventricle Infiltration',\n",
       " 'Survival Status',\n",
       " 'OS (months)',\n",
       " 'OS-impute (months)',\n",
       " 'Nanostring',\n",
       " 'Recurrence-label_raw',\n",
       " 'DFS (month)-raw',\n",
       " 'DFS-impute (months)',\n",
       " 'Radiotherapy',\n",
       " 'Chemotherapy',\n",
       " 'TumorResection',\n",
       " 'ID.1',\n",
       " '转移情况/脊髓',\n",
       " '后遗症',\n",
       " '其他备注',\n",
       " 'Nanostring.1']"
      ]
     },
     "execution_count": 3,
     "metadata": {},
     "output_type": "execute_result"
    }
   ],
   "source": [
    "data.columns.tolist()"
   ]
  },
  {
   "cell_type": "code",
   "execution_count": 4,
   "metadata": {},
   "outputs": [],
   "source": [
    "intrst_list = ['Race', 'Sex', 'Histological Subtypes', 'Hydrocephalus before Surgery', 'Tumor Texture', 'TumorResection', 'Radiotherapy', 'Chemotherapy', 'Survival Status']"
   ]
  },
  {
   "cell_type": "markdown",
   "metadata": {},
   "source": [
    "### Intracranial solid metastases"
   ]
  },
  {
   "cell_type": "code",
   "execution_count": 5,
   "metadata": {},
   "outputs": [
    {
     "name": "stdout",
     "output_type": "stream",
     "text": [
      "P-value: 0.19678999452208812\n"
     ]
    }
   ],
   "source": [
    "import numpy as np\n",
    "c = np.array([[114, 20],\n",
    "              [542, 64]])\n",
    "chi2, p_value, dof, expected = chi2_contingency(c,correction=True)\n",
    "print(\"P-value:\", p_value)"
   ]
  },
  {
   "cell_type": "code",
   "execution_count": 6,
   "metadata": {},
   "outputs": [
    {
     "name": "stdout",
     "output_type": "stream",
     "text": [
      "P-value: 0.02503576123535973\n"
     ]
    }
   ],
   "source": [
    "c = np.array([[124, 9],\n",
    "              [218, 35],\n",
    "              [461, 87]])\n",
    "chi2, p_value, dof, expected = chi2_contingency(c, correction=True)\n",
    "print(\"P-value:\", p_value)"
   ]
  },
  {
   "cell_type": "code",
   "execution_count": 7,
   "metadata": {},
   "outputs": [
    {
     "name": "stdout",
     "output_type": "stream",
     "text": [
      "P-value: 0.3570300685040749\n"
     ]
    }
   ],
   "source": [
    "\n",
    "c = np.array([[139, 11],\n",
    "              [58, 2]])\n",
    "_, p_value = fisher_exact(c)\n",
    "print(\"P-value:\", p_value)"
   ]
  },
  {
   "cell_type": "code",
   "execution_count": 8,
   "metadata": {},
   "outputs": [
    {
     "name": "stdout",
     "output_type": "stream",
     "text": [
      "P-value: 0.2260977778358269\n"
     ]
    }
   ],
   "source": [
    "c = np.array([[93, 21],\n",
    "              [335, 52]])\n",
    "_, p_value = fisher_exact(c)\n",
    "print(\"P-value:\", p_value)"
   ]
  },
  {
   "cell_type": "code",
   "execution_count": 12,
   "metadata": {},
   "outputs": [
    {
     "name": "stdout",
     "output_type": "stream",
     "text": [
      "╒═══════════════════════════╤═════════════╤═════════════════╕\n",
      "│ Race                      │   East Asia │   North America │\n",
      "╞═══════════════════════════╪═════════════╪═════════════════╡\n",
      "│ Asian                     │         756 │               5 │\n",
      "├───────────────────────────┼─────────────┼─────────────────┤\n",
      "│ Black or African American │           0 │               5 │\n",
      "├───────────────────────────┼─────────────┼─────────────────┤\n",
      "│ Other or not reported     │          47 │              39 │\n",
      "├───────────────────────────┼─────────────┼─────────────────┤\n",
      "│ White                     │           0 │              82 │\n",
      "╘═══════════════════════════╧═════════════╧═════════════════╛\n",
      "P-value: 6.934891660640356e-155\n",
      "╒═══════╤═════════════╤═════════════════╕\n",
      "│ Sex   │   East Asia │   North America │\n",
      "╞═══════╪═════════════╪═════════════════╡\n",
      "│ F     │         280 │              45 │\n",
      "├───────┼─────────────┼─────────────────┤\n",
      "│ M     │         523 │              86 │\n",
      "╘═══════╧═════════════╧═════════════════╛\n",
      "P-value: 0.9868191141127851\n",
      "╒═════════════════════════╤═════════════╤═════════════════╕\n",
      "│ Histological Subtypes   │   East Asia │   North America │\n",
      "╞═════════════════════════╪═════════════╪═════════════════╡\n",
      "│ Classic                 │         538 │              21 │\n",
      "├─────────────────────────┼─────────────┼─────────────────┤\n",
      "│ DN                      │         159 │               5 │\n",
      "├─────────────────────────┼─────────────┼─────────────────┤\n",
      "│ LCA                     │          27 │               8 │\n",
      "├─────────────────────────┼─────────────┼─────────────────┤\n",
      "│ MBEN                    │          34 │               0 │\n",
      "├─────────────────────────┼─────────────┼─────────────────┤\n",
      "│ 未判断                  │           4 │               0 │\n",
      "╘═════════════════════════╧═════════════╧═════════════════╛\n",
      "P-value: 1.7207324623885388e-06\n",
      "╒════════════════════════════════╤═════════════╤═════════════════╕\n",
      "│ Hydrocephalus before Surgery   │   East Asia │   North America │\n",
      "╞════════════════════════════════╪═════════════╪═════════════════╡\n",
      "│ N                              │         150 │              74 │\n",
      "├────────────────────────────────┼─────────────┼─────────────────┤\n",
      "│ Y                              │         653 │              57 │\n",
      "╘════════════════════════════════╧═════════════╧═════════════════╛\n",
      "P-value: 1.5872407917385047e-20\n",
      "╒═════════════════╤═════════════╤═════════════════╕\n",
      "│ Tumor Texture   │   East Asia │   North America │\n",
      "╞═════════════════╪═════════════╪═════════════════╡\n",
      "│ Hard            │         129 │               3 │\n",
      "├─────────────────┼─────────────┼─────────────────┤\n",
      "│ Mixed           │         163 │               2 │\n",
      "├─────────────────┼─────────────┼─────────────────┤\n",
      "│ Soft            │         496 │               5 │\n",
      "╘═════════════════╧═════════════╧═════════════════╛\n",
      "P-value: 0.5029026054167856\n",
      "╒══════════════════╤═════════════╤═════════════════╕\n",
      "│ TumorResection   │   East Asia │   North America │\n",
      "╞══════════════════╪═════════════╪═════════════════╡\n",
      "│ GTR              │         446 │              42 │\n",
      "├──────────────────┼─────────────┼─────────────────┤\n",
      "│ NTR              │         298 │              20 │\n",
      "├──────────────────┼─────────────┼─────────────────┤\n",
      "│ STR              │          41 │              19 │\n",
      "╘══════════════════╧═════════════╧═════════════════╛\n",
      "P-value: 3.2713194346649843e-09\n",
      "╒════════════════╤═════════════╤═════════════════╕\n",
      "│ Radiotherapy   │   East Asia │   North America │\n",
      "╞════════════════╪═════════════╪═════════════════╡\n",
      "│ N              │          82 │               4 │\n",
      "├────────────────┼─────────────┼─────────────────┤\n",
      "│ Y              │         663 │              35 │\n",
      "╘════════════════╧═════════════╧═════════════════╛\n",
      "P-value: 1.0\n",
      "╒════════════════╤═════════════╤═════════════════╕\n",
      "│ Chemotherapy   │   East Asia │   North America │\n",
      "╞════════════════╪═════════════╪═════════════════╡\n",
      "│ N              │         101 │               3 │\n",
      "├────────────────┼─────────────┼─────────────────┤\n",
      "│ Y              │         621 │              36 │\n",
      "├────────────────┼─────────────┼─────────────────┤\n",
      "│ 尚未开始       │          17 │               0 │\n",
      "╘════════════════╧═════════════╧═════════════════╛\n",
      "P-value: 0.33506681144211475\n",
      "╒═══════════════════╤═════════════╤═════════════════╕\n",
      "│   Survival Status │   East Asia │   North America │\n",
      "╞═══════════════════╪═════════════╪═════════════════╡\n",
      "│                 0 │         655 │             100 │\n",
      "├───────────────────┼─────────────┼─────────────────┤\n",
      "│                 1 │         148 │              31 │\n",
      "╘═══════════════════╧═════════════╧═════════════════╛\n",
      "P-value: 0.19658829423764557\n"
     ]
    }
   ],
   "source": [
    "for cato in intrst_list:\n",
    "    contig = pd.crosstab(data[cato], data['Geographical Location'])\n",
    "    print(tabulate(contig, headers='keys', tablefmt='fancy_grid'))\n",
    "    chi2, p_value, dof, expected = chi2_contingency(contig, correction=True)\n",
    "    print(\"P-value:\", p_value)"
   ]
  },
  {
   "cell_type": "code",
   "execution_count": 4,
   "metadata": {},
   "outputs": [
    {
     "name": "stdout",
     "output_type": "stream",
     "text": [
      "For East Asia\n",
      "Survival probability at 12 months: 12    0.899411\n",
      "Name: KM_estimate, dtype: float64\n",
      "Survival probability at 24 months: 24    0.826894\n",
      "Name: KM_estimate, dtype: float64\n",
      "Survival probability at 36 months: 36    0.739153\n",
      "Name: KM_estimate, dtype: float64\n",
      "Survival probability at 48 months: 48    0.689307\n",
      "Name: KM_estimate, dtype: float64\n",
      "Survival probability at 60 months: 60    0.662553\n",
      "Name: KM_estimate, dtype: float64\n",
      "For North America\n",
      "Survival probability at 12 months: 12    0.96017\n",
      "Name: KM_estimate, dtype: float64\n",
      "Survival probability at 24 months: 24    0.889894\n",
      "Name: KM_estimate, dtype: float64\n",
      "Survival probability at 36 months: 36    0.820185\n",
      "Name: KM_estimate, dtype: float64\n",
      "Survival probability at 48 months: 48    0.786453\n",
      "Name: KM_estimate, dtype: float64\n",
      "Survival probability at 60 months: 60    0.756449\n",
      "Name: KM_estimate, dtype: float64\n",
      "For all:\n",
      "Survival probability at 12 months: 12    0.90895\n",
      "Name: KM_estimate, dtype: float64\n",
      "Survival probability at 24 months: 24    0.837205\n",
      "Name: KM_estimate, dtype: float64\n",
      "Survival probability at 36 months: 36    0.754012\n",
      "Name: KM_estimate, dtype: float64\n",
      "Survival probability at 48 months: 48    0.709341\n",
      "Name: KM_estimate, dtype: float64\n",
      "Survival probability at 60 months: 60    0.681774\n",
      "Name: KM_estimate, dtype: float64\n"
     ]
    }
   ],
   "source": [
    "from lifelines import KaplanMeierFitter\n",
    "geos = ['East Asia', 'North America', ]\n",
    "for geo in geos:\n",
    "    print(f'For {geo}')\n",
    "    kmf = KaplanMeierFitter()\n",
    "    kmf.fit(durations=data[data['Geographical Location'] == geo]['OS-impute (months)'], event_observed=data[data['Geographical Location'] == geo]['Survival Status'])\n",
    "    time_points = [12, 24, 36, 48, 60]\n",
    "\n",
    "    # Get survival probability at the specified time point\n",
    "    for time_point in time_points:\n",
    "        survival_prob = kmf.survival_function_at_times([time_point])\n",
    "        print(f\"Survival probability at {time_point} months:\", survival_prob)\n",
    "\n",
    "print(\"For all:\")\n",
    "kmf = KaplanMeierFitter()\n",
    "kmf.fit(durations=data['OS-impute (months)'], event_observed=data['Survival Status'])\n",
    "time_points = [12, 24, 36, 48, 60]\n",
    "\n",
    "# Get survival probability at the specified time point\n",
    "for time_point in time_points:\n",
    "    survival_prob = kmf.survival_function_at_times([time_point])\n",
    "    print(f\"Survival probability at {time_point} months:\", survival_prob)\n",
    "\n",
    "ci = kmf.confidence_interval_\n",
    "ci.to_excel(\"survival.xlsx\")\n",
    "\n"
   ]
  },
  {
   "cell_type": "code",
   "execution_count": 9,
   "metadata": {},
   "outputs": [
    {
     "name": "stdout",
     "output_type": "stream",
     "text": [
      "Overall comparison (Multivariate Log-rank test) p-value: 0.06914539877521987\n"
     ]
    }
   ],
   "source": [
    "import pandas as pd\n",
    "from lifelines import KaplanMeierFitter\n",
    "from lifelines.statistics import multivariate_logrank_test\n",
    "\n",
    "kmf = KaplanMeierFitter()\n",
    "groups = data['Geographical Location']\n",
    "time = data['OS-impute (months)']\n",
    "event = data['Survival Status']\n",
    "\n",
    "# Perform log-rank test\n",
    "results = multivariate_logrank_test(time, groups, event)\n",
    "\n",
    "# Print the results (p-value)\n",
    "p_value = results.p_value\n",
    "print(\"Overall comparison (Multivariate Log-rank test) p-value:\", p_value)\n",
    "\n"
   ]
  }
 ],
 "metadata": {
  "kernelspec": {
   "display_name": "base",
   "language": "python",
   "name": "python3"
  },
  "language_info": {
   "codemirror_mode": {
    "name": "ipython",
    "version": 3
   },
   "file_extension": ".py",
   "mimetype": "text/x-python",
   "name": "python",
   "nbconvert_exporter": "python",
   "pygments_lexer": "ipython3",
   "version": "3.9.13"
  }
 },
 "nbformat": 4,
 "nbformat_minor": 2
}
