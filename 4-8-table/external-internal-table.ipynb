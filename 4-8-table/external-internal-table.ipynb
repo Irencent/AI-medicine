{
 "cells": [
  {
   "cell_type": "code",
   "execution_count": 1,
   "metadata": {},
   "outputs": [
    {
     "name": "stderr",
     "output_type": "stream",
     "text": [
      "/Users/huyanshen/opt/anaconda3/lib/python3.9/site-packages/scipy/__init__.py:155: UserWarning: A NumPy version >=1.18.5 and <1.25.0 is required for this version of SciPy (detected version 1.26.4\n",
      "  warnings.warn(f\"A NumPy version >={np_minversion} and <{np_maxversion}\"\n"
     ]
    }
   ],
   "source": [
    "import pandas as pd\n",
    "import numpy as np\n",
    "from tabulate import tabulate\n",
    "from scipy.stats import chi2_contingency"
   ]
  },
  {
   "cell_type": "code",
   "execution_count": 12,
   "metadata": {},
   "outputs": [],
   "source": [
    "internal = pd.read_excel(\"Copy of internal_external_lists.xlsx\", sheet_name='internal')\n",
    "external = pd.read_excel(\"Copy of internal_external_lists.xlsx\", sheet_name='external')"
   ]
  },
  {
   "cell_type": "code",
   "execution_count": 14,
   "metadata": {},
   "outputs": [
    {
     "data": {
      "text/plain": [
       "649"
      ]
     },
     "execution_count": 14,
     "metadata": {},
     "output_type": "execute_result"
    }
   ],
   "source": [
    "in_list = internal[\"ID\"].tolist()\n",
    "ex_list = external[\"ID\"].tolist()\n",
    "all_list = in_list + ex_list \n",
    "len(all_list)"
   ]
  },
  {
   "cell_type": "code",
   "execution_count": 15,
   "metadata": {},
   "outputs": [
    {
     "data": {
      "text/plain": [
       "Index(['ID', 'MRI-complete label (T1E&T2)', 'Exclusion-list', 'CohortID',\n",
       "       'Geographical Location', 'Race', 'Date of Surgery', 'Age', 'Sex',\n",
       "       'Hospital', 'Molecular Subtypes', 'Genetic Mutations',\n",
       "       'Histological Subtypes', 'Hydrocephalus before Surgery',\n",
       "       'Tumor Texture', 'Fourth-ventricle Infiltration', 'Survival Status',\n",
       "       'OS (months)', 'OS-impute (months)', 'Nanostring',\n",
       "       'Recurrence-label_raw', 'DFS (month)-raw', 'DFS-impute (months)',\n",
       "       'Radiotherapy', 'Chemotherapy',\n",
       "       'TumorResection（天坛-MRI和病例一起看过；cohort2-仅病例；cohort3为病例）', 'ID.1',\n",
       "       '转移情况/脊髓', '后遗症', '其他备注', 'Nanostring.1'],\n",
       "      dtype='object')"
      ]
     },
     "execution_count": 15,
     "metadata": {},
     "output_type": "execute_result"
    }
   ],
   "source": [
    "df = pd.read_excel(\"external-internal.xlsx\")\n",
    "df.columns"
   ]
  },
  {
   "cell_type": "code",
   "execution_count": 16,
   "metadata": {},
   "outputs": [],
   "source": [
    "df = df[df['ID'].isin(all_list)]"
   ]
  },
  {
   "cell_type": "code",
   "execution_count": 18,
   "metadata": {},
   "outputs": [],
   "source": [
    "df.to_excel(\"external-internal.xlsx\", index=False)"
   ]
  },
  {
   "cell_type": "code",
   "execution_count": null,
   "metadata": {},
   "outputs": [],
   "source": []
  },
  {
   "cell_type": "code",
   "execution_count": 30,
   "metadata": {},
   "outputs": [],
   "source": [
    "data = pd.read_excel(\"external-internal.xlsx\")\n",
    "intrst_list = ['Sex', 'Race', 'Histological Subtypes']"
   ]
  },
  {
   "cell_type": "code",
   "execution_count": 31,
   "metadata": {},
   "outputs": [
    {
     "name": "stdout",
     "output_type": "stream",
     "text": [
      "╒═══════╤════════════╤════════════╕\n",
      "│ Sex   │   external │   internal │\n",
      "╞═══════╪════════════╪════════════╡\n",
      "│ F     │         55 │        171 │\n",
      "├───────┼────────────┼────────────┤\n",
      "│ M     │         80 │        343 │\n",
      "╘═══════╧════════════╧════════════╛\n",
      "P-value: 0.12843457977666511\n",
      "╒═══════════════════════════╤════════════╤════════════╕\n",
      "│ Race                      │   external │   internal │\n",
      "╞═══════════════════════════╪════════════╪════════════╡\n",
      "│ Asian                     │         68 │        514 │\n",
      "├───────────────────────────┼────────────┼────────────┤\n",
      "│ Black or African American │          4 │          0 │\n",
      "├───────────────────────────┼────────────┼────────────┤\n",
      "│ Other                     │         18 │          0 │\n",
      "├───────────────────────────┼────────────┼────────────┤\n",
      "│ White                     │         42 │          0 │\n",
      "╘═══════════════════════════╧════════════╧════════════╛\n",
      "P-value: 1.1424742483437308e-59\n",
      "╒═════════════════════════╤════════════╤════════════╕\n",
      "│ Histological Subtypes   │   external │   internal │\n",
      "╞═════════════════════════╪════════════╪════════════╡\n",
      "│ Classic                 │         63 │        326 │\n",
      "├─────────────────────────┼────────────┼────────────┤\n",
      "│ DN                      │         10 │        119 │\n",
      "├─────────────────────────┼────────────┼────────────┤\n",
      "│ LCA                     │          7 │         20 │\n",
      "├─────────────────────────┼────────────┼────────────┤\n",
      "│ MBEN                    │          1 │         25 │\n",
      "╘═════════════════════════╧════════════╧════════════╛\n",
      "P-value: 0.01163196735764707\n"
     ]
    }
   ],
   "source": [
    "for cato in intrst_list:\n",
    "    contig = pd.crosstab(data[cato], data['set'])\n",
    "    print(tabulate(contig, headers='keys', tablefmt='fancy_grid'))\n",
    "    chi2, p_value, dof, expected = chi2_contingency(contig, correction=True)\n",
    "    print(\"P-value:\", p_value)"
   ]
  },
  {
   "cell_type": "code",
   "execution_count": 32,
   "metadata": {},
   "outputs": [
    {
     "name": "stdout",
     "output_type": "stream",
     "text": [
      "╒══════════════════════╤════════════╤════════════╕\n",
      "│ Molecular Subtypes   │   external │   internal │\n",
      "╞══════════════════════╪════════════╪════════════╡\n",
      "│ G3                   │         18 │         52 │\n",
      "├──────────────────────┼────────────┼────────────┤\n",
      "│ G4                   │         50 │        230 │\n",
      "├──────────────────────┼────────────┼────────────┤\n",
      "│ SHH                  │         38 │        143 │\n",
      "├──────────────────────┼────────────┼────────────┤\n",
      "│ WNT                  │         17 │         68 │\n",
      "├──────────────────────┼────────────┼────────────┤\n",
      "│ nonWNT/nonSHH        │         12 │         21 │\n",
      "╘══════════════════════╧════════════╧════════════╛\n",
      "P-value: 0.11678050199651661\n"
     ]
    }
   ],
   "source": [
    "contig = pd.crosstab(data['Molecular Subtypes'], data['set'])\n",
    "print(tabulate(contig, headers='keys', tablefmt='fancy_grid'))\n",
    "chi2, p_value, dof, expected = chi2_contingency(contig, correction=True)\n",
    "print(\"P-value:\", p_value)"
   ]
  },
  {
   "cell_type": "code",
   "execution_count": 33,
   "metadata": {},
   "outputs": [
    {
     "name": "stdout",
     "output_type": "stream",
     "text": [
      "P-value: 0.9807060491707879\n"
     ]
    }
   ],
   "source": [
    "import numpy as np\n",
    "c = np.array([[68, 17],\n",
    "              [143, 38],\n",
    "              [303, 80]])\n",
    "chi2, p_value, dof, expected = chi2_contingency(c,correction=True)\n",
    "print(\"P-value:\", p_value)"
   ]
  },
  {
   "cell_type": "code",
   "execution_count": 34,
   "metadata": {},
   "outputs": [
    {
     "name": "stdout",
     "output_type": "stream",
     "text": [
      "P-value: 0.1877635592147937\n"
     ]
    }
   ],
   "source": [
    "import numpy as np\n",
    "c = np.array([[52, 18],\n",
    "              [230, 50]])\n",
    "chi2, p_value, dof, expected = chi2_contingency(c,correction=True)\n",
    "print(\"P-value:\", p_value)"
   ]
  },
  {
   "cell_type": "code",
   "execution_count": null,
   "metadata": {},
   "outputs": [],
   "source": []
  }
 ],
 "metadata": {
  "kernelspec": {
   "display_name": "base",
   "language": "python",
   "name": "python3"
  },
  "language_info": {
   "codemirror_mode": {
    "name": "ipython",
    "version": 3
   },
   "file_extension": ".py",
   "mimetype": "text/x-python",
   "name": "python",
   "nbconvert_exporter": "python",
   "pygments_lexer": "ipython3",
   "version": "3.9.13"
  }
 },
 "nbformat": 4,
 "nbformat_minor": 2
}
