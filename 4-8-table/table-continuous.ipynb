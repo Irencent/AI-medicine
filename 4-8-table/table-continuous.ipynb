{
 "cells": [
  {
   "cell_type": "code",
   "execution_count": 1,
   "metadata": {},
   "outputs": [
    {
     "name": "stderr",
     "output_type": "stream",
     "text": [
      "/Users/huyanshen/opt/anaconda3/lib/python3.9/site-packages/scipy/__init__.py:155: UserWarning: A NumPy version >=1.18.5 and <1.25.0 is required for this version of SciPy (detected version 1.26.4\n",
      "  warnings.warn(f\"A NumPy version >={np_minversion} and <{np_maxversion}\"\n"
     ]
    }
   ],
   "source": [
    "import numpy as np\n",
    "import pandas as pd\n",
    "from scipy.stats import f_oneway\n",
    "from scipy.stats import kruskal"
   ]
  },
  {
   "cell_type": "code",
   "execution_count": 3,
   "metadata": {},
   "outputs": [
    {
     "data": {
      "text/plain": [
       "['WNT age',\n",
       " 'SHH age',\n",
       " 'G3 age',\n",
       " 'G4 age',\n",
       " 'mean0',\n",
       " 'std0',\n",
       " 'median0',\n",
       " 'q1-0',\n",
       " 'q3-0',\n",
       " 'Asia follow',\n",
       " 'US follow',\n",
       " 'median1',\n",
       " 'q1-1',\n",
       " 'q3-1',\n",
       " 'TP53+ age',\n",
       " 'TP53- age',\n",
       " 'mean-2',\n",
       " 'std-2',\n",
       " 'median-2',\n",
       " 'q1-2',\n",
       " 'q3-2',\n",
       " 'Asia age',\n",
       " 'US age',\n",
       " 'mean-3',\n",
       " 'std3',\n",
       " 'median3',\n",
       " 'q1-3',\n",
       " 'q3-3',\n",
       " 'four-type age',\n",
       " 'VS age',\n",
       " 'TP age',\n",
       " 'followup-all',\n",
       " 'mean4',\n",
       " 'std4',\n",
       " 'median4',\n",
       " 'q1-4',\n",
       " 'q3-4',\n",
       " 'internal-age',\n",
       " 'external-age',\n",
       " 'all-age',\n",
       " 'mean(std)',\n",
       " 'median(Q1, Q3)']"
      ]
     },
     "execution_count": 3,
     "metadata": {},
     "output_type": "execute_result"
    }
   ],
   "source": [
    "df = pd.read_csv('/Users/huyanshen/Desktop/4-8-table/Book2.csv')\n",
    "\n",
    "# Perform ANOVA\n",
    "df.columns.tolist()"
   ]
  },
  {
   "cell_type": "code",
   "execution_count": 4,
   "metadata": {},
   "outputs": [
    {
     "name": "stdout",
     "output_type": "stream",
     "text": [
      "ANOVA mean P-value: 0.00041884038008588087\n",
      "kruskal median P-value 2.8388624779567827e-07\n"
     ]
    }
   ],
   "source": [
    "f_statistic, p_value = f_oneway(df['WNT age'].dropna(), df['SHH age'].dropna(), df['G3 age'].dropna(), df['G4 age'].dropna())\n",
    "h_statistic, p = kruskal(df['WNT age'].dropna(), df['SHH age'].dropna(), df['G3 age'].dropna(), df['G4 age'].dropna())\n",
    "\n",
    "# Print results\n",
    "print(\"ANOVA mean P-value:\", p_value)\n",
    "print(\"kruskal median P-value\", p)"
   ]
  },
  {
   "cell_type": "code",
   "execution_count": 5,
   "metadata": {},
   "outputs": [
    {
     "name": "stdout",
     "output_type": "stream",
     "text": [
      "ANOVA mean P-value: 2.792102036782278e-31\n",
      "kruskal median P-value 1.5638404784734284e-17\n"
     ]
    }
   ],
   "source": [
    "f_statistic, p_value = f_oneway(df['Asia follow'].dropna(), df['US follow'].dropna())\n",
    "h_statistic, p = kruskal(df['Asia follow'].dropna(), df['US follow'].dropna())\n",
    "\n",
    "# Print results\n",
    "print(\"ANOVA mean P-value:\", p_value)\n",
    "print(\"kruskal median P-value\", p)"
   ]
  },
  {
   "cell_type": "code",
   "execution_count": 4,
   "metadata": {},
   "outputs": [
    {
     "name": "stdout",
     "output_type": "stream",
     "text": [
      "ANOVA mean P-value: 0.3574160199394366\n",
      "kruskal median P-value 0.591131573073834\n"
     ]
    }
   ],
   "source": [
    "f_statistic, p_value = f_oneway(df['Asia age'].dropna(), df['US age'].dropna())\n",
    "h_statistic, p = kruskal(df['Asia age'].dropna(), df['US age'].dropna())\n",
    "\n",
    "# Print results\n",
    "print(\"ANOVA mean P-value:\", p_value)\n",
    "print(\"kruskal median P-value\", p)"
   ]
  },
  {
   "cell_type": "code",
   "execution_count": 7,
   "metadata": {},
   "outputs": [
    {
     "name": "stdout",
     "output_type": "stream",
     "text": [
      "ANOVA mean P-value: 0.10980039769973064\n",
      "kruskal median P-value 0.14939686212141473\n"
     ]
    }
   ],
   "source": [
    "f_statistic, p_value = f_oneway(df['TP53+ age'].dropna(), df['TP53- age'].dropna())\n",
    "h_statistic, p = kruskal(df['TP53+ age'].dropna(), df['TP53- age'].dropna())\n",
    "\n",
    "# Print results\n",
    "print(\"ANOVA mean P-value:\", p_value)\n",
    "print(\"kruskal median P-value\", p)"
   ]
  },
  {
   "cell_type": "code",
   "execution_count": 9,
   "metadata": {},
   "outputs": [
    {
     "name": "stdout",
     "output_type": "stream",
     "text": [
      "ANOVA mean P-value: 0.29323055086855215\n",
      "kruskal median P-value 0.14939686212141473\n"
     ]
    }
   ],
   "source": [
    "f_statistic, p_value = f_oneway(df['internal-age'].dropna(), df['external-age'].dropna())\n",
    "h_statistic, p = kruskal(df['TP53+ age'].dropna(), df['TP53- age'].dropna())\n",
    "\n",
    "# Print results\n",
    "print(\"ANOVA mean P-value:\", p_value)\n",
    "print(\"kruskal median P-value\", p)"
   ]
  }
 ],
 "metadata": {
  "kernelspec": {
   "display_name": "base",
   "language": "python",
   "name": "python3"
  },
  "language_info": {
   "codemirror_mode": {
    "name": "ipython",
    "version": 3
   },
   "file_extension": ".py",
   "mimetype": "text/x-python",
   "name": "python",
   "nbconvert_exporter": "python",
   "pygments_lexer": "ipython3",
   "version": "3.9.13"
  }
 },
 "nbformat": 4,
 "nbformat_minor": 2
}
