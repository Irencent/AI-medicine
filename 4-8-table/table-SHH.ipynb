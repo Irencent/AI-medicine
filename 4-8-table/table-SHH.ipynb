{
 "cells": [
  {
   "cell_type": "code",
   "execution_count": 1,
   "metadata": {},
   "outputs": [
    {
     "name": "stderr",
     "output_type": "stream",
     "text": [
      "/Users/huyanshen/opt/anaconda3/lib/python3.9/site-packages/scipy/__init__.py:155: UserWarning: A NumPy version >=1.18.5 and <1.25.0 is required for this version of SciPy (detected version 1.26.4\n",
      "  warnings.warn(f\"A NumPy version >={np_minversion} and <{np_maxversion}\"\n"
     ]
    }
   ],
   "source": [
    "import pandas as pd\n",
    "from tabulate import tabulate\n",
    "from scipy.stats import fisher_exact\n",
    "from scipy.stats import chi2_contingency"
   ]
  },
  {
   "cell_type": "code",
   "execution_count": 6,
   "metadata": {},
   "outputs": [],
   "source": [
    "data =  pd.read_excel('/Users/huyanshen/Desktop/4-8-table/AsiaVsUs-shh.xlsx', header=0)"
   ]
  },
  {
   "cell_type": "code",
   "execution_count": 3,
   "metadata": {},
   "outputs": [],
   "source": [
    "data_shh = data[data['Genetic Mutations'].isin(['TP53+', 'TP53-'])]"
   ]
  },
  {
   "cell_type": "code",
   "execution_count": 4,
   "metadata": {},
   "outputs": [],
   "source": [
    "intrst_list = ['Sex', 'Race', 'Tumor Texture', 'Histological Subtypes', 'TumorResection', 'Radiotherapy', 'Chemotherapy', 'Survival Status']"
   ]
  },
  {
   "cell_type": "code",
   "execution_count": 5,
   "metadata": {},
   "outputs": [
    {
     "name": "stdout",
     "output_type": "stream",
     "text": [
      "╒═══════╤═════════╤═════════╕\n",
      "│ Sex   │   TP53+ │   TP53- │\n",
      "╞═══════╪═════════╪═════════╡\n",
      "│ F     │      21 │      47 │\n",
      "├───────┼─────────┼─────────┤\n",
      "│ M     │      39 │     103 │\n",
      "╘═══════╧═════════╧═════════╛\n",
      "P-value: 0.7265175258732204\n",
      "╒═══════════════════════╤═════════╤═════════╕\n",
      "│ Race                  │   TP53+ │   TP53- │\n",
      "╞═══════════════════════╪═════════╪═════════╡\n",
      "│ Asian                 │      57 │     137 │\n",
      "├───────────────────────┼─────────┼─────────┤\n",
      "│ Other or not reported │       3 │       8 │\n",
      "├───────────────────────┼─────────┼─────────┤\n",
      "│ White                 │       0 │       5 │\n",
      "╘═══════════════════════╧═════════╧═════════╛\n",
      "P-value: 0.35496679767535483\n",
      "╒═════════════════╤═════════╤═════════╕\n",
      "│ Tumor Texture   │   TP53+ │   TP53- │\n",
      "╞═════════════════╪═════════╪═════════╡\n",
      "│ Hard            │      11 │      28 │\n",
      "├─────────────────┼─────────┼─────────┤\n",
      "│ Mixed           │      13 │      36 │\n",
      "├─────────────────┼─────────┼─────────┤\n",
      "│ Soft            │      31 │      72 │\n",
      "╘═════════════════╧═════════╧═════════╛\n",
      "P-value: 0.8983804935365685\n",
      "╒═════════════════════════╤═════════╤═════════╕\n",
      "│ Histological Subtypes   │   TP53+ │   TP53- │\n",
      "╞═════════════════════════╪═════════╪═════════╡\n",
      "│ Classic                 │      18 │      54 │\n",
      "├─────────────────────────┼─────────┼─────────┤\n",
      "│ DN                      │      28 │      71 │\n",
      "├─────────────────────────┼─────────┼─────────┤\n",
      "│ LCA                     │       7 │       3 │\n",
      "├─────────────────────────┼─────────┼─────────┤\n",
      "│ MBEN                    │       5 │      17 │\n",
      "╘═════════════════════════╧═════════╧═════════╛\n",
      "P-value: 0.026357510410713943\n",
      "╒══════════════════╤═════════╤═════════╕\n",
      "│ TumorResection   │   TP53+ │   TP53- │\n",
      "╞══════════════════╪═════════╪═════════╡\n",
      "│ GTR              │      30 │      79 │\n",
      "├──────────────────┼─────────┼─────────┤\n",
      "│ NTR              │      27 │      57 │\n",
      "├──────────────────┼─────────┼─────────┤\n",
      "│ STR              │       2 │       9 │\n",
      "╘══════════════════╧═════════╧═════════╛\n",
      "P-value: 0.5641334004843097\n",
      "╒════════════════╤═════════╤═════════╕\n",
      "│ Radiotherapy   │   TP53+ │   TP53- │\n",
      "╞════════════════╪═════════╪═════════╡\n",
      "│ N              │       9 │      25 │\n",
      "├────────────────┼─────────┼─────────┤\n",
      "│ Y              │      48 │     113 │\n",
      "╘════════════════╧═════════╧═════════╛\n",
      "P-value: 0.8556213097687333\n",
      "╒════════════════╤═════════╤═════════╕\n",
      "│ Chemotherapy   │   TP53+ │   TP53- │\n",
      "╞════════════════╪═════════╪═════════╡\n",
      "│ N              │       7 │      22 │\n",
      "├────────────────┼─────────┼─────────┤\n",
      "│ Y              │      50 │     114 │\n",
      "├────────────────┼─────────┼─────────┤\n",
      "│ 尚未开始       │       0 │       1 │\n",
      "╘════════════════╧═════════╧═════════╛\n",
      "P-value: 0.6385566390533022\n",
      "╒═══════════════════╤═════════╤═════════╕\n",
      "│   Survival Status │   TP53+ │   TP53- │\n",
      "╞═══════════════════╪═════════╪═════════╡\n",
      "│                 0 │      43 │     124 │\n",
      "├───────────────────┼─────────┼─────────┤\n",
      "│                 1 │      17 │      26 │\n",
      "╘═══════════════════╧═════════╧═════════╛\n",
      "P-value: 0.11064776438525935\n"
     ]
    }
   ],
   "source": [
    "for cato in intrst_list:\n",
    "    contig = pd.crosstab(data_shh[cato], data_shh['Genetic Mutations'])\n",
    "    print(tabulate(contig, headers='keys', tablefmt='fancy_grid'))\n",
    "    chi2, p_value, dof, expected = chi2_contingency(contig, correction=True)\n",
    "    print(\"P-value:\", p_value)"
   ]
  },
  {
   "cell_type": "code",
   "execution_count": 11,
   "metadata": {},
   "outputs": [
    {
     "name": "stdout",
     "output_type": "stream",
     "text": [
      "For TP53+\n",
      "Survival probability at 12 months: 12    0.88474\n",
      "Name: KM_estimate, dtype: float64\n",
      "Survival probability at 24 months: 24    0.740054\n",
      "Name: KM_estimate, dtype: float64\n",
      "Survival probability at 36 months: 36    0.549754\n",
      "Name: KM_estimate, dtype: float64\n",
      "Survival probability at 48 months: 48    0.549754\n",
      "Name: KM_estimate, dtype: float64\n",
      "Survival probability at 60 months: 60    0.366503\n",
      "Name: KM_estimate, dtype: float64\n",
      "For TP53-\n",
      "Survival probability at 12 months: 12    0.916764\n",
      "Name: KM_estimate, dtype: float64\n",
      "Survival probability at 24 months: 24    0.812814\n",
      "Name: KM_estimate, dtype: float64\n",
      "Survival probability at 36 months: 36    0.766846\n",
      "Name: KM_estimate, dtype: float64\n",
      "Survival probability at 48 months: 48    0.697983\n",
      "Name: KM_estimate, dtype: float64\n",
      "Survival probability at 60 months: 60    0.697983\n",
      "Name: KM_estimate, dtype: float64\n",
      "for all:\n",
      "Survival probability at 12 months: 12    0.906826\n",
      "Name: KM_estimate, dtype: float64\n",
      "Survival probability at 24 months: 24    0.791575\n",
      "Name: KM_estimate, dtype: float64\n",
      "Survival probability at 36 months: 36    0.704577\n",
      "Name: KM_estimate, dtype: float64\n",
      "Survival probability at 48 months: 48    0.6591\n",
      "Name: KM_estimate, dtype: float64\n",
      "Survival probability at 60 months: 60    0.62441\n",
      "Name: KM_estimate, dtype: float64\n"
     ]
    }
   ],
   "source": [
    "from lifelines import KaplanMeierFitter\n",
    "mutations = ['TP53+', 'TP53-', ]\n",
    "for mutation in mutations:\n",
    "    print(f'For {mutation}')\n",
    "    kmf = KaplanMeierFitter()\n",
    "    kmf.fit(durations=data_shh[data_shh['Genetic Mutations'] == mutation]['OS-impute (months)'], event_observed=data_shh[data_shh['Genetic Mutations'] == mutation]['Survival Status'])\n",
    "    time_points = [12, 24, 36, 48, 60]\n",
    "\n",
    "    # Get survival probability at the specified time point\n",
    "    for time_point in time_points:\n",
    "        survival_prob = kmf.survival_function_at_times([time_point])\n",
    "        print(f\"Survival probability at {time_point} months:\", survival_prob)\n",
    "\n",
    "print(\"for all:\")\n",
    "kmf = KaplanMeierFitter()\n",
    "kmf.fit(durations=data_shh['OS-impute (months)'], event_observed=data_shh['Survival Status'])\n",
    "time_points = [12, 24, 36, 48, 60]\n",
    "\n",
    "# Get survival probability at the specified time point\n",
    "for time_point in time_points:\n",
    "    survival_prob = kmf.survival_function_at_times([time_point])\n",
    "    print(f\"Survival probability at {time_point} months:\", survival_prob)\n"
   ]
  },
  {
   "cell_type": "code",
   "execution_count": 7,
   "metadata": {},
   "outputs": [
    {
     "name": "stdout",
     "output_type": "stream",
     "text": [
      "Overall comparison (Multivariate Log-rank test) p-value: 0.06847405240200605\n"
     ]
    }
   ],
   "source": [
    "import pandas as pd\n",
    "from lifelines import KaplanMeierFitter\n",
    "from lifelines.statistics import multivariate_logrank_test\n",
    "\n",
    "kmf = KaplanMeierFitter()\n",
    "groups = data_shh['Genetic Mutations']\n",
    "time = data_shh['OS-impute (months)']\n",
    "event = data_shh['Survival Status']\n",
    "\n",
    "# Perform log-rank test\n",
    "results = multivariate_logrank_test(time, groups, event)\n",
    "\n",
    "# Print the results (p-value)\n",
    "p_value = results.p_value\n",
    "print(\"Overall comparison (Multivariate Log-rank test) p-value:\", p_value)"
   ]
  }
 ],
 "metadata": {
  "kernelspec": {
   "display_name": "base",
   "language": "python",
   "name": "python3"
  },
  "language_info": {
   "codemirror_mode": {
    "name": "ipython",
    "version": 3
   },
   "file_extension": ".py",
   "mimetype": "text/x-python",
   "name": "python",
   "nbconvert_exporter": "python",
   "pygments_lexer": "ipython3",
   "version": "3.9.13"
  }
 },
 "nbformat": 4,
 "nbformat_minor": 2
}
