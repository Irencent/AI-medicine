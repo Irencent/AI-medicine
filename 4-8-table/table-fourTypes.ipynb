{
 "cells": [
  {
   "cell_type": "code",
   "execution_count": 1,
   "metadata": {},
   "outputs": [
    {
     "name": "stderr",
     "output_type": "stream",
     "text": [
      "/Users/huyanshen/opt/anaconda3/lib/python3.9/site-packages/scipy/__init__.py:155: UserWarning: A NumPy version >=1.18.5 and <1.25.0 is required for this version of SciPy (detected version 1.26.4\n",
      "  warnings.warn(f\"A NumPy version >={np_minversion} and <{np_maxversion}\"\n"
     ]
    }
   ],
   "source": [
    "import pandas as pd\n",
    "import numpy as np\n",
    "from tabulate import tabulate\n",
    "from scipy.stats import chi2_contingency"
   ]
  },
  {
   "cell_type": "code",
   "execution_count": 2,
   "metadata": {},
   "outputs": [],
   "source": [
    "data =  pd.read_excel('/Users/huyanshen/Desktop/4-8-table/four-types.xlsx', header=0)"
   ]
  },
  {
   "cell_type": "code",
   "execution_count": 29,
   "metadata": {},
   "outputs": [
    {
     "data": {
      "text/plain": [
       "['ID',\n",
       " 'MRI-complete label (T1E&T2)',\n",
       " 'Exclusion-list',\n",
       " 'CohortID',\n",
       " 'Geographical Location',\n",
       " 'Race',\n",
       " 'Date of Surgery',\n",
       " 'Age',\n",
       " 'Sex',\n",
       " 'Hospital',\n",
       " 'Molecular Subtypes',\n",
       " 'Genetic Mutations',\n",
       " 'Histological Subtypes',\n",
       " 'Hydrocephalus before Surgery',\n",
       " 'Tumor Texture',\n",
       " 'Fourth-ventricle Infiltration',\n",
       " 'Survival Status',\n",
       " 'OS (months)',\n",
       " 'OS-impute (months)',\n",
       " 'Nanostring',\n",
       " 'Recurrence-label_raw',\n",
       " 'DFS (month)-raw',\n",
       " 'DFS-impute (months)',\n",
       " 'Radiotherapy',\n",
       " 'Chemotherapy',\n",
       " 'TumorResection',\n",
       " 'ID.1',\n",
       " '转移情况/脊髓',\n",
       " '后遗症',\n",
       " '其他备注',\n",
       " 'Nanostring.1']"
      ]
     },
     "execution_count": 29,
     "metadata": {},
     "output_type": "execute_result"
    }
   ],
   "source": [
    "data.columns.tolist()"
   ]
  },
  {
   "cell_type": "code",
   "execution_count": 4,
   "metadata": {},
   "outputs": [],
   "source": [
    "intrst_list = ['Sex', 'Race', 'Tumor Texture', 'Histological Subtypes', 'TumorResection', 'Radiotherapy', 'Chemotherapy', 'Survival Status']"
   ]
  },
  {
   "cell_type": "code",
   "execution_count": 25,
   "metadata": {},
   "outputs": [
    {
     "name": "stdout",
     "output_type": "stream",
     "text": [
      "P-value: 0.006048498298285957\n"
     ]
    }
   ],
   "source": [
    "c = np.array([[3, 10, 9, 8],\n",
    "             [115, 205, 76, 318]])\n",
    "chi2, p_value, dof, expected = chi2_contingency(c, correction=True)\n",
    "print(\"P-value:\", p_value)"
   ]
  },
  {
   "cell_type": "code",
   "execution_count": 5,
   "metadata": {},
   "outputs": [
    {
     "name": "stdout",
     "output_type": "stream",
     "text": [
      "╒═══════╤═══════╤═══════╤══════╤══════╕\n",
      "│ Sex   │   WNT │   SHH │   G3 │   G4 │\n",
      "╞═══════╪═══════╪═══════╪══════╪══════╡\n",
      "│ F     │    74 │    88 │   37 │  110 │\n",
      "├───────┼───────┼───────┼──────┼──────┤\n",
      "│ M     │    58 │   165 │   78 │  277 │\n",
      "╘═══════╧═══════╧═══════╧══════╧══════╛\n",
      "P-value: 2.449256397910823e-07\n",
      "╒═══════════════════════════╤═══════╤═══════╤══════╤══════╕\n",
      "│ Race                      │   WNT │   SHH │   G3 │   G4 │\n",
      "╞═══════════════════════════╪═══════╪═══════╪══════╪══════╡\n",
      "│ Asian                     │   124 │   220 │   94 │  336 │\n",
      "├───────────────────────────┼───────┼───────┼──────┼──────┤\n",
      "│ Black or African American │     1 │     0 │    0 │    4 │\n",
      "├───────────────────────────┼───────┼───────┼──────┼──────┤\n",
      "│ Other or not reported     │     2 │    12 │    5 │   10 │\n",
      "├───────────────────────────┼───────┼───────┼──────┼──────┤\n",
      "│ White                     │     5 │    21 │   16 │   37 │\n",
      "╘═══════════════════════════╧═══════╧═══════╧══════╧══════╛\n",
      "P-value: 0.0655541232894993\n",
      "╒═════════════════╤═══════╤═══════╤══════╤══════╕\n",
      "│ Tumor Texture   │   WNT │   SHH │   G3 │   G4 │\n",
      "╞═════════════════╪═══════╪═══════╪══════╪══════╡\n",
      "│ Hard            │    11 │    47 │   20 │   51 │\n",
      "├─────────────────┼───────┼───────┼──────┼──────┤\n",
      "│ Mixed           │    17 │    52 │   17 │   73 │\n",
      "├─────────────────┼───────┼───────┼──────┼──────┤\n",
      "│ Soft            │    94 │   114 │   57 │  212 │\n",
      "╘═════════════════╧═══════╧═══════╧══════╧══════╛\n",
      "P-value: 0.0017853078237281324\n",
      "╒═════════════════════════╤═══════╤═══════╤══════╤══════╕\n",
      "│ Histological Subtypes   │   WNT │   SHH │   G3 │   G4 │\n",
      "╞═════════════════════════╪═══════╪═══════╪══════╪══════╡\n",
      "│ Classic                 │   106 │    84 │   67 │  269 │\n",
      "├─────────────────────────┼───────┼───────┼──────┼──────┤\n",
      "│ DN                      │     4 │   103 │    8 │   48 │\n",
      "├─────────────────────────┼───────┼───────┼──────┼──────┤\n",
      "│ LCA                     │     2 │    12 │    9 │    8 │\n",
      "├─────────────────────────┼───────┼───────┼──────┼──────┤\n",
      "│ MBEN                    │     4 │    25 │    1 │    1 │\n",
      "├─────────────────────────┼───────┼───────┼──────┼──────┤\n",
      "│ 未判断                  │     2 │     0 │    1 │    1 │\n",
      "╘═════════════════════════╧═══════╧═══════╧══════╧══════╛\n",
      "P-value: 2.57519928695677e-36\n",
      "╒══════════════════╤═══════╤═══════╤══════╤══════╕\n",
      "│ TumorResection   │   WNT │   SHH │   G3 │   G4 │\n",
      "╞══════════════════╪═══════╪═══════╪══════╪══════╡\n",
      "│ GTR              │    74 │   133 │   56 │  195 │\n",
      "├──────────────────┼───────┼───────┼──────┼──────┤\n",
      "│ NTR              │    47 │    90 │   39 │  131 │\n",
      "├──────────────────┼───────┼───────┼──────┼──────┤\n",
      "│ STR              │     7 │    13 │    9 │   26 │\n",
      "╘══════════════════╧═══════╧═══════╧══════╧══════╛\n",
      "P-value: 0.9314488978448904\n",
      "╒════════════════╤═══════╤═══════╤══════╤══════╕\n",
      "│ Radiotherapy   │   WNT │   SHH │   G3 │   G4 │\n",
      "╞════════════════╪═══════╪═══════╪══════╪══════╡\n",
      "│ N              │     6 │    39 │   17 │   21 │\n",
      "├────────────────┼───────┼───────┼──────┼──────┤\n",
      "│ Y              │   114 │   180 │   71 │  295 │\n",
      "╘════════════════╧═══════╧═══════╧══════╧══════╛\n",
      "P-value: 6.688261673983712e-06\n",
      "╒════════════════╤═══════╤═══════╤══════╤══════╕\n",
      "│ Chemotherapy   │   WNT │   SHH │   G3 │   G4 │\n",
      "╞════════════════╪═══════╪═══════╪══════╪══════╡\n",
      "│ N              │    16 │    31 │   18 │   34 │\n",
      "├────────────────┼───────┼───────┼──────┼──────┤\n",
      "│ Y              │    98 │   186 │   65 │  275 │\n",
      "├────────────────┼───────┼───────┼──────┼──────┤\n",
      "│ 尚未开始       │     6 │     1 │    4 │    5 │\n",
      "╘════════════════╧═══════╧═══════╧══════╧══════╛\n",
      "P-value: 0.009960606074398436\n",
      "╒═══════════════════╤═══════╤═══════╤══════╤══════╕\n",
      "│   Survival Status │   WNT │   SHH │   G3 │   G4 │\n",
      "╞═══════════════════╪═══════╪═══════╪══════╪══════╡\n",
      "│                 0 │   124 │   197 │   84 │  315 │\n",
      "├───────────────────┼───────┼───────┼──────┼──────┤\n",
      "│                 1 │     8 │    56 │   31 │   72 │\n",
      "╘═══════════════════╧═══════╧═══════╧══════╧══════╛\n",
      "P-value: 0.0001118434472446013\n"
     ]
    }
   ],
   "source": [
    "from scipy.stats import chi2_contingency\n",
    "for cato in intrst_list:\n",
    "    contig = pd.crosstab(data[cato], data['Molecular Subtypes'])[['WNT', 'SHH', 'G3', 'G4']]\n",
    "    print(tabulate(contig, headers='keys', tablefmt='fancy_grid'))\n",
    "    chi2, p_value, dof, expected = chi2_contingency(contig, correction=True)\n",
    "    print(\"P-value:\", p_value)"
   ]
  },
  {
   "cell_type": "code",
   "execution_count": 4,
   "metadata": {},
   "outputs": [
    {
     "name": "stdout",
     "output_type": "stream",
     "text": [
      "For WNT\n",
      "Survival probability at 12 months: 12    0.961106\n",
      "Name: KM_estimate, dtype: float64\n",
      "Survival probability at 24 months: 24    0.917301\n",
      "Name: KM_estimate, dtype: float64\n",
      "Survival probability at 36 months: 36    0.917301\n",
      "Name: KM_estimate, dtype: float64\n",
      "Survival probability at 48 months: 48    0.883327\n",
      "Name: KM_estimate, dtype: float64\n",
      "Survival probability at 60 months: 60    0.883327\n",
      "Name: KM_estimate, dtype: float64\n",
      "For SHH\n",
      "Survival probability at 12 months: 12    0.903122\n",
      "Name: KM_estimate, dtype: float64\n",
      "Survival probability at 24 months: 24    0.793287\n",
      "Name: KM_estimate, dtype: float64\n",
      "Survival probability at 36 months: 36    0.680476\n",
      "Name: KM_estimate, dtype: float64\n",
      "Survival probability at 48 months: 48    0.635207\n",
      "Name: KM_estimate, dtype: float64\n",
      "Survival probability at 60 months: 60    0.597842\n",
      "Name: KM_estimate, dtype: float64\n",
      "For G3\n",
      "Survival probability at 12 months: 12    0.765701\n",
      "Name: KM_estimate, dtype: float64\n",
      "Survival probability at 24 months: 24    0.705545\n",
      "Name: KM_estimate, dtype: float64\n",
      "Survival probability at 36 months: 36    0.679414\n",
      "Name: KM_estimate, dtype: float64\n",
      "Survival probability at 48 months: 48    0.641668\n",
      "Name: KM_estimate, dtype: float64\n",
      "Survival probability at 60 months: 60    0.641668\n",
      "Name: KM_estimate, dtype: float64\n",
      "For G4\n",
      "Survival probability at 12 months: 12    0.916911\n",
      "Name: KM_estimate, dtype: float64\n",
      "Survival probability at 24 months: 24    0.861477\n",
      "Name: KM_estimate, dtype: float64\n",
      "Survival probability at 36 months: 36    0.746582\n",
      "Name: KM_estimate, dtype: float64\n",
      "Survival probability at 48 months: 48    0.68718\n",
      "Name: KM_estimate, dtype: float64\n",
      "Survival probability at 60 months: 60    0.652391\n",
      "Name: KM_estimate, dtype: float64\n",
      "For all:\n",
      "Survival probability at 12 months: 12    0.908997\n",
      "Name: KM_estimate, dtype: float64\n",
      "Survival probability at 24 months: 24    0.839149\n",
      "Name: KM_estimate, dtype: float64\n",
      "Survival probability at 36 months: 36    0.75573\n",
      "Name: KM_estimate, dtype: float64\n",
      "Survival probability at 48 months: 48    0.710086\n",
      "Name: KM_estimate, dtype: float64\n",
      "Survival probability at 60 months: 60    0.680121\n",
      "Name: KM_estimate, dtype: float64\n"
     ]
    },
    {
     "name": "stderr",
     "output_type": "stream",
     "text": [
      "/var/folders/nj/6hcc0q8x30x74w9dhvw1xz2r0000gn/T/ipykernel_19845/3391382760.py:7: UserWarning: Boolean Series key will be reindexed to match DataFrame index.\n",
      "  kmf.fit(durations=data[data['Geographical Location'] == 'East Asia'][data['Molecular Subtypes'] == subtype]['OS-impute (months)'], event_observed=data[data['Geographical Location'] == 'East Asia'][data['Molecular Subtypes'] == subtype]['Survival Status'])\n",
      "/var/folders/nj/6hcc0q8x30x74w9dhvw1xz2r0000gn/T/ipykernel_19845/3391382760.py:7: UserWarning: Boolean Series key will be reindexed to match DataFrame index.\n",
      "  kmf.fit(durations=data[data['Geographical Location'] == 'East Asia'][data['Molecular Subtypes'] == subtype]['OS-impute (months)'], event_observed=data[data['Geographical Location'] == 'East Asia'][data['Molecular Subtypes'] == subtype]['Survival Status'])\n",
      "/var/folders/nj/6hcc0q8x30x74w9dhvw1xz2r0000gn/T/ipykernel_19845/3391382760.py:7: UserWarning: Boolean Series key will be reindexed to match DataFrame index.\n",
      "  kmf.fit(durations=data[data['Geographical Location'] == 'East Asia'][data['Molecular Subtypes'] == subtype]['OS-impute (months)'], event_observed=data[data['Geographical Location'] == 'East Asia'][data['Molecular Subtypes'] == subtype]['Survival Status'])\n",
      "/var/folders/nj/6hcc0q8x30x74w9dhvw1xz2r0000gn/T/ipykernel_19845/3391382760.py:7: UserWarning: Boolean Series key will be reindexed to match DataFrame index.\n",
      "  kmf.fit(durations=data[data['Geographical Location'] == 'East Asia'][data['Molecular Subtypes'] == subtype]['OS-impute (months)'], event_observed=data[data['Geographical Location'] == 'East Asia'][data['Molecular Subtypes'] == subtype]['Survival Status'])\n"
     ]
    }
   ],
   "source": [
    "from lifelines import KaplanMeierFitter\n",
    "import matplotlib.pyplot as plt\n",
    "subtypes = ['WNT', 'SHH', 'G3', 'G4']\n",
    "for subtype in subtypes:\n",
    "    print(f'For {subtype}')\n",
    "    kmf = KaplanMeierFitter()\n",
    "    kmf.fit(durations=data[data['Geographical Location'] == 'East Asia'][data['Molecular Subtypes'] == subtype]['OS-impute (months)'], event_observed=data[data['Geographical Location'] == 'East Asia'][data['Molecular Subtypes'] == subtype]['Survival Status'])\n",
    "    time_points = [12, 24, 36, 48, 60]\n",
    "\n",
    "    # Get survival probability at the specified time point\n",
    "    for time_point in time_points:\n",
    "        survival_prob = kmf.survival_function_at_times([time_point])\n",
    "        print(f\"Survival probability at {time_point} months:\", survival_prob)\n",
    "\n",
    "print(\"For all:\")\n",
    "kmf = KaplanMeierFitter()\n",
    "kmf.fit(durations=data['OS-impute (months)'], event_observed=data['Survival Status'])\n",
    "time_points = [12, 24, 36, 48, 60]\n",
    "\n",
    "# Get survival probability at the specified time point\n",
    "for time_point in time_points:\n",
    "    survival_prob = kmf.survival_function_at_times([time_point])\n",
    "    print(f\"Survival probability at {time_point} months:\", survival_prob)\n"
   ]
  },
  {
   "cell_type": "code",
   "execution_count": 8,
   "metadata": {},
   "outputs": [
    {
     "name": "stdout",
     "output_type": "stream",
     "text": [
      "Overall comparison (Multivariate Log-rank test) p-value: 0.00014410889583569712\n"
     ]
    }
   ],
   "source": [
    "import pandas as pd\n",
    "from lifelines import KaplanMeierFitter\n",
    "from lifelines.statistics import multivariate_logrank_test\n",
    "\n",
    "kmf = KaplanMeierFitter()\n",
    "groups = data['Molecular Subtypes']\n",
    "time = data['OS-impute (months)']\n",
    "event = data['Survival Status']\n",
    "\n",
    "# Perform log-rank test\n",
    "results = multivariate_logrank_test(time, groups, event)\n",
    "\n",
    "# Print the results (p-value)\n",
    "p_value = results.p_value\n",
    "print(\"Overall comparison (Multivariate Log-rank test) p-value:\", p_value)"
   ]
  },
  {
   "cell_type": "code",
   "execution_count": 8,
   "metadata": {},
   "outputs": [
    {
     "data": {
      "image/png": "[encoded data removed]",
      "text/plain": [
       "<Figure size 1000x1000 with 1 Axes>"
      ]
     },
     "metadata": {},
     "output_type": "display_data"
    }
   ],
   "source": [
    "import matplotlib.pyplot as plt\n",
    "from lifelines import KaplanMeierFitter\n",
    "\n",
    "# Generate synthetic survival data for four groups\n",
    "\n",
    "# Initialize a KaplanMeierFitter\n",
    "kmf = KaplanMeierFitter()\n",
    "\n",
    "# Fit and plot Kaplan-Meier curves for each group\n",
    "plt.figure(figsize=(10, 10))\n",
    "for group in data['Molecular Subtypes'].unique():\n",
    "    group_data = data[data['Molecular Subtypes'] == group]\n",
    "    kmf.fit(group_data['OS-impute (months)'], event_observed=group_data['Survival Status'], label=group)\n",
    "    kmf.plot(ci_show=False)\n",
    "    event_times = group_data.loc[group_data['Survival Status'] == 1, 'OS-impute (months)']\n",
    "\n",
    "\n",
    "# Customize the plot\n",
    "plt.xlabel('Time')\n",
    "plt.ylabel('Survival Probability')\n",
    "plt.xlim(0, 60)\n",
    "stride = 0.25  # Adjust this value based on your preference\n",
    "plt.yticks(np.arange(0, 1.1, step=stride))\n",
    "plt.legend().set_visible(False)\n",
    "#plt.grid(True)\n",
    "plt.show()\n"
   ]
  }
 ],
 "metadata": {
  "kernelspec": {
   "display_name": "base",
   "language": "python",
   "name": "python3"
  },
  "language_info": {
   "codemirror_mode": {
    "name": "ipython",
    "version": 3
   },
   "file_extension": ".py",
   "mimetype": "text/x-python",
   "name": "python",
   "nbconvert_exporter": "python",
   "pygments_lexer": "ipython3",
   "version": "3.9.13"
  }
 },
 "nbformat": 4,
 "nbformat_minor": 2
}
